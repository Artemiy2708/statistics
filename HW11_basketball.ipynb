{
 "cells": [
  {
   "cell_type": "markdown",
   "metadata": {},
   "source": [
    "<center>\n",
    "<img src=\"logo.png\" height=\"900\"> \n",
    "</center>\n",
    "\n",
    "\n",
    "#  Береги уровень значимости с молоду \n",
    "\n",
    "В этой тетрадке мы будем работать с данными про Баскетбол. "
   ]
  },
  {
   "cell_type": "code",
   "execution_count": 1,
   "metadata": {},
   "outputs": [],
   "source": [
    "import numpy as np\n",
    "import pandas as pd\n",
    "from scipy import stats as sts\n",
    "import seaborn as sns\n",
    "import matplotlib.pyplot as plt\n",
    "\n",
    "plt.style.use('ggplot')\n",
    "%matplotlib inline"
   ]
  },
  {
   "cell_type": "markdown",
   "metadata": {},
   "source": [
    "В файле `basketball.tsv` лежит [статистика о штрафных бросках в играх в Баскетбол, собранная с сайта ESPN.com](https://www.kaggle.com/sebastianmantey/nba-free-throws)"
   ]
  },
  {
   "cell_type": "code",
   "execution_count": 2,
   "metadata": {},
   "outputs": [
    {
     "name": "stdout",
     "output_type": "stream",
     "text": [
      "(618019, 13)\n"
     ]
    },
    {
     "data": {
      "text/html": [
       "<div>\n",
       "<style scoped>\n",
       "    .dataframe tbody tr th:only-of-type {\n",
       "        vertical-align: middle;\n",
       "    }\n",
       "\n",
       "    .dataframe tbody tr th {\n",
       "        vertical-align: top;\n",
       "    }\n",
       "\n",
       "    .dataframe thead th {\n",
       "        text-align: right;\n",
       "    }\n",
       "</style>\n",
       "<table border=\"1\" class=\"dataframe\">\n",
       "  <thead>\n",
       "    <tr style=\"text-align: right;\">\n",
       "      <th></th>\n",
       "      <th>end_result</th>\n",
       "      <th>game</th>\n",
       "      <th>game_id</th>\n",
       "      <th>period</th>\n",
       "      <th>play</th>\n",
       "      <th>player</th>\n",
       "      <th>playoffs</th>\n",
       "      <th>score</th>\n",
       "      <th>season</th>\n",
       "      <th>shot_made</th>\n",
       "      <th>time</th>\n",
       "      <th>command</th>\n",
       "      <th>is_home</th>\n",
       "    </tr>\n",
       "  </thead>\n",
       "  <tbody>\n",
       "    <tr>\n",
       "      <th>0</th>\n",
       "      <td>106 - 114</td>\n",
       "      <td>PHX - LAL</td>\n",
       "      <td>261031013.0</td>\n",
       "      <td>1.0</td>\n",
       "      <td>Andrew Bynum makes free throw 1 of 2</td>\n",
       "      <td>Andrew Bynum</td>\n",
       "      <td>regular</td>\n",
       "      <td>0 - 1</td>\n",
       "      <td>2006 - 2007</td>\n",
       "      <td>1</td>\n",
       "      <td>11:45</td>\n",
       "      <td>LAL</td>\n",
       "      <td>False</td>\n",
       "    </tr>\n",
       "    <tr>\n",
       "      <th>1</th>\n",
       "      <td>106 - 114</td>\n",
       "      <td>PHX - LAL</td>\n",
       "      <td>261031013.0</td>\n",
       "      <td>1.0</td>\n",
       "      <td>Andrew Bynum makes free throw 2 of 2</td>\n",
       "      <td>Andrew Bynum</td>\n",
       "      <td>regular</td>\n",
       "      <td>0 - 2</td>\n",
       "      <td>2006 - 2007</td>\n",
       "      <td>1</td>\n",
       "      <td>11:45</td>\n",
       "      <td>LAL</td>\n",
       "      <td>False</td>\n",
       "    </tr>\n",
       "    <tr>\n",
       "      <th>2</th>\n",
       "      <td>106 - 114</td>\n",
       "      <td>PHX - LAL</td>\n",
       "      <td>261031013.0</td>\n",
       "      <td>1.0</td>\n",
       "      <td>Andrew Bynum makes free throw 1 of 2</td>\n",
       "      <td>Andrew Bynum</td>\n",
       "      <td>regular</td>\n",
       "      <td>18 - 12</td>\n",
       "      <td>2006 - 2007</td>\n",
       "      <td>1</td>\n",
       "      <td>7:26</td>\n",
       "      <td>LAL</td>\n",
       "      <td>False</td>\n",
       "    </tr>\n",
       "    <tr>\n",
       "      <th>3</th>\n",
       "      <td>106 - 114</td>\n",
       "      <td>PHX - LAL</td>\n",
       "      <td>261031013.0</td>\n",
       "      <td>1.0</td>\n",
       "      <td>Andrew Bynum misses free throw 2 of 2</td>\n",
       "      <td>Andrew Bynum</td>\n",
       "      <td>regular</td>\n",
       "      <td>18 - 12</td>\n",
       "      <td>2006 - 2007</td>\n",
       "      <td>0</td>\n",
       "      <td>7:26</td>\n",
       "      <td>LAL</td>\n",
       "      <td>False</td>\n",
       "    </tr>\n",
       "    <tr>\n",
       "      <th>4</th>\n",
       "      <td>106 - 114</td>\n",
       "      <td>PHX - LAL</td>\n",
       "      <td>261031013.0</td>\n",
       "      <td>1.0</td>\n",
       "      <td>Shawn Marion makes free throw 1 of 1</td>\n",
       "      <td>Shawn Marion</td>\n",
       "      <td>regular</td>\n",
       "      <td>21 - 12</td>\n",
       "      <td>2006 - 2007</td>\n",
       "      <td>1</td>\n",
       "      <td>7:18</td>\n",
       "      <td>PHX</td>\n",
       "      <td>True</td>\n",
       "    </tr>\n",
       "  </tbody>\n",
       "</table>\n",
       "</div>"
      ],
      "text/plain": [
       "  end_result       game      game_id  period  \\\n",
       "0  106 - 114  PHX - LAL  261031013.0     1.0   \n",
       "1  106 - 114  PHX - LAL  261031013.0     1.0   \n",
       "2  106 - 114  PHX - LAL  261031013.0     1.0   \n",
       "3  106 - 114  PHX - LAL  261031013.0     1.0   \n",
       "4  106 - 114  PHX - LAL  261031013.0     1.0   \n",
       "\n",
       "                                    play        player playoffs    score  \\\n",
       "0   Andrew Bynum makes free throw 1 of 2  Andrew Bynum  regular    0 - 1   \n",
       "1   Andrew Bynum makes free throw 2 of 2  Andrew Bynum  regular    0 - 2   \n",
       "2   Andrew Bynum makes free throw 1 of 2  Andrew Bynum  regular  18 - 12   \n",
       "3  Andrew Bynum misses free throw 2 of 2  Andrew Bynum  regular  18 - 12   \n",
       "4   Shawn Marion makes free throw 1 of 1  Shawn Marion  regular  21 - 12   \n",
       "\n",
       "        season  shot_made   time command  is_home  \n",
       "0  2006 - 2007          1  11:45     LAL    False  \n",
       "1  2006 - 2007          1  11:45     LAL    False  \n",
       "2  2006 - 2007          1   7:26     LAL    False  \n",
       "3  2006 - 2007          0   7:26     LAL    False  \n",
       "4  2006 - 2007          1   7:18     PHX     True  "
      ]
     },
     "execution_count": 2,
     "metadata": {},
     "output_type": "execute_result"
    }
   ],
   "source": [
    "df = pd.read_csv('basketball.tsv', sep='\\t')\n",
    "print(df.shape)\n",
    "df.head( )"
   ]
  },
  {
   "cell_type": "markdown",
   "metadata": {},
   "source": [
    "__Описание колонок:__\n",
    "\n",
    "* `end_result` - результат игры\n",
    "* `game` - какие команды играли, команда справа - хозяин площадки\n",
    "* `game_id` - уникальный id игры\n",
    "* `period` - период\n",
    "* `player` - имя игрока\n",
    "* `playoff` - тип игры\n",
    "* `score` - счёт после броска \n",
    "* `season` - сезон игры\n",
    "* `shot_made` - попал или не попал в кольцо при броске \n",
    "* `time` - время броска \n",
    "* `command` - предполагаемая команда игрока (колонка рассчитана по датасету)\n",
    "* `is_home` - домашний матч или в гостях"
   ]
  },
  {
   "cell_type": "markdown",
   "metadata": {},
   "source": [
    "# 1. Доля попаданий в корзину\n",
    "\n",
    "Немного посмотрим на наши данные. Ответьте на следующие вопросы и запишите ответы в соотвествующие переменные. \n",
    "\n",
    "Сколько уникальных игр было сыграно в течение всего периода, который есть в таблице (`ans1`)? Сколько в данных встречается уникальных игроков (`ans2`)?"
   ]
  },
  {
   "cell_type": "code",
   "execution_count": 3,
   "metadata": {
    "deletable": false,
    "nbgrader": {
     "cell_type": "code",
     "checksum": "fcd91e963e9224fcdec19f36ee797fad",
     "grade": false,
     "grade_id": "cell-b4435f7854617700",
     "locked": false,
     "schema_version": 3,
     "solution": true,
     "task": false
    }
   },
   "outputs": [
    {
     "data": {
      "text/plain": [
       "array(['Andrew Bynum', 'Shawn Marion', 'Amare Stoudemire', ...,\n",
       "       'Alan Williams', 'Josh Huestis', 'Branden Dawson'], dtype=object)"
      ]
     },
     "execution_count": 3,
     "metadata": {},
     "output_type": "execute_result"
    }
   ],
   "source": [
    "### ╰( ͡° ͜ʖ ͡° )つ▬▬ι═══════  bzzzzzzzzzz\n",
    "# will the code be with you\n",
    "\n",
    "ans1 = df.game_id.unique().shape[0]\n",
    "ans2 = df.player.unique().shape[0]\n",
    "players=df.player.unique()\n",
    "players\n",
    "# your code here\n"
   ]
  },
  {
   "cell_type": "code",
   "execution_count": 4,
   "metadata": {
    "deletable": false,
    "editable": false,
    "nbgrader": {
     "cell_type": "code",
     "checksum": "a723a44fd4dd9e0aaa57b62e3284570a",
     "grade": true,
     "grade_id": "cell-cb06cb14b49d9294",
     "locked": true,
     "points": 1,
     "schema_version": 3,
     "solution": false,
     "task": false
    }
   },
   "outputs": [],
   "source": [
    "# проверка того, что задание решено верно\n",
    "assert ans1 == 12874\n",
    "\n",
    "# Другие подобные тесты скрыты от вас"
   ]
  },
  {
   "cell_type": "markdown",
   "metadata": {},
   "source": [
    "Подсчитайте по каждому игроку статистику, связанную с тем, как часто он попадет в корзину при бросках:\n",
    "\n",
    "- Долю попаданий в корзину среди его бросков, $\\hat{p}$\n",
    "- Число бросков, которое было сделано игроком, $n$\n",
    "\n",
    "Среди игроков, которые сделали более ста бросков, найдите самого успешного. Запишите его в переменную `ans3`."
   ]
  },
  {
   "cell_type": "code",
   "execution_count": 5,
   "metadata": {
    "deletable": false,
    "nbgrader": {
     "cell_type": "code",
     "checksum": "c966b5b3d7f34c77ed16155e730bf2c4",
     "grade": false,
     "grade_id": "cell-87779d294c93adee",
     "locked": false,
     "schema_version": 3,
     "solution": true,
     "task": false
    }
   },
   "outputs": [
    {
     "data": {
      "text/plain": [
       "'Steve Nash'"
      ]
     },
     "execution_count": 5,
     "metadata": {},
     "output_type": "execute_result"
    }
   ],
   "source": [
    "### ╰( ͡° ͜ʖ ͡° )つ▬▬ι═══════  bzzzzzzzzzz\n",
    "df1=df.groupby(['player'])['shot_made'].agg(['mean','count'])\n",
    "df1\n",
    "ans3 = df1[df1['count']>100]['mean']\n",
    "ans3=ans3.sort_values(axis=0,ascending=False)\n",
    "ans3=ans3.index[0]\n",
    "ans3\n",
    "\n",
    "# your code here\n"
   ]
  },
  {
   "cell_type": "code",
   "execution_count": 6,
   "metadata": {
    "deletable": false,
    "editable": false,
    "nbgrader": {
     "cell_type": "code",
     "checksum": "97a2ab1d690232a2a2ccf5f684d08f3f",
     "grade": true,
     "grade_id": "cell-c23ba5c55e6cc4dd",
     "locked": true,
     "points": 1,
     "schema_version": 3,
     "solution": false,
     "task": false
    }
   },
   "outputs": [],
   "source": [
    "# проверка того, что задание решено верно\n",
    "assert ans3.split(' ')[0][-1] == 'e'\n",
    "assert len(ans3.split(' ')[0]) == 5\n",
    "\n",
    "# Другие подобные тесты скрыты от вас"
   ]
  },
  {
   "cell_type": "markdown",
   "metadata": {},
   "source": [
    "Для поиска `ans4` и `ans5` используйте данные по игрокам, сделавшим более ста бросков.  \n",
    "\n",
    "Найдите медиану распределения доли попаданий, запишите её в переменную `ans4`. Найдите значение коэффициента асимметрии, запишите его в переменную `ans5`. Какое значение он принимает? Правда ли, что распределение этой переменной оказывается скошенным?\n",
    "\n",
    "Постройте гистограмму для доли попаданий игроков, нарисуйте на ней пунктирной линией медиану. Проинтерпретируйте то, что вы видите на рисунке.  "
   ]
  },
  {
   "cell_type": "code",
   "execution_count": 7,
   "metadata": {
    "deletable": false,
    "nbgrader": {
     "cell_type": "code",
     "checksum": "98d69d8be0eb7427c9c83063a34a98c4",
     "grade": false,
     "grade_id": "cell-24c206f331e13f7d",
     "locked": false,
     "schema_version": 3,
     "solution": true,
     "task": false
    }
   },
   "outputs": [
    {
     "data": {
      "text/plain": [
       "<matplotlib.lines.Line2D at 0x7face80b50d0>"
      ]
     },
     "execution_count": 7,
     "metadata": {},
     "output_type": "execute_result"
    },
    {
     "data": {
      "image/png": "[encoded data removed]",
      "text/plain": [
       "<Figure size 432x288 with 1 Axes>"
      ]
     },
     "metadata": {
      "needs_background": "light"
     },
     "output_type": "display_data"
    }
   ],
   "source": [
    "### ╰( ͡° ͜ʖ ͡° )つ▬▬ι═══════  bzzzzzzzzzz\n",
    "# will the code be with you\n",
    "\n",
    "ans4 = np.median( df1[df1['count']>100]['mean'].sort_values(axis=0,ascending=False).values)\n",
    "ans5 = sts.skew(df1[df1['count']>100]['mean'].sort_values(axis=0,ascending=False).values)\n",
    "\n",
    "df2=df1[df1['count']>100]['mean'].sort_values(axis=0,ascending=False)\n",
    "df2.hist(bins=50)\n",
    "plt.axvline(x=ans4,linestyle='--')\n",
    "# your code here\n"
   ]
  },
  {
   "cell_type": "code",
   "execution_count": 8,
   "metadata": {
    "deletable": false,
    "editable": false,
    "nbgrader": {
     "cell_type": "code",
     "checksum": "ee3c96e18a2df006230fa0866f88e259",
     "grade": true,
     "grade_id": "cell-b31917b8cb7ffd81",
     "locked": true,
     "points": 1,
     "schema_version": 3,
     "solution": false,
     "task": false
    }
   },
   "outputs": [],
   "source": [
    "# проверка того, что задание решено верно\n",
    "assert ans4 > 0.7\n",
    "assert ans5 < -1\n",
    "\n",
    "# Другие подобные тесты скрыты от вас"
   ]
  },
  {
   "cell_type": "markdown",
   "metadata": {},
   "source": [
    "# 2. Игры дома и в гостях\n",
    "\n",
    "Проанализируем, как часто игроки попадают в корзину дома и как часто в гостях. Подсчитайте доли попаданий в корзину в гостях и дома для всех ироков из выборки. Если для какого-то игрока оказывается, что он всегда играл только дома/только в гостях, удалите его из выборки.\n",
    "\n",
    "Проверьте гипотезу о равенстве этих долей для каждого игрока против двусторонней альтернативы. Число гипотез, которые отклоняются на уровне значимости $5\\%$,  запишите в переменную `ans6`. "
   ]
  },
  {
   "cell_type": "code",
   "execution_count": 221,
   "metadata": {
    "deletable": false,
    "nbgrader": {
     "cell_type": "code",
     "checksum": "8aecbd0de1a7391399e17ce5b7f2e7a6",
     "grade": false,
     "grade_id": "cell-928c46b9ef1c2626",
     "locked": false,
     "schema_version": 3,
     "solution": true,
     "task": false
    }
   },
   "outputs": [
    {
     "data": {
      "text/plain": [
       "array([0.44693804, 0.45022017, 0.84345261, ..., 0.03120191, 0.70938812,\n",
       "       0.00770293])"
      ]
     },
     "execution_count": 221,
     "metadata": {},
     "output_type": "execute_result"
    }
   ],
   "source": [
    "### ╰( ͡° ͜ʖ ͡° )つ▬▬ι═══════  bzzzzzzzzzz\n",
    "# will the code be with you\n",
    "\n",
    "df1=df.groupby(['player','is_home'])['shot_made'].agg(['mean','count','sum'])\n",
    "df1.rename(columns={'mean':'dolya','count':'quantity','sum':'suc'},inplace=True)\n",
    "df1=df1.reset_index()\n",
    "players=df1.player\n",
    "pl=players.values\n",
    "k=[]\n",
    "for i in range(1,len(pl)):\n",
    "    if pl[i]!=pl[i-1] and pl[i]!=pl[i+1]:\n",
    "        k.append(i)\n",
    "        \n",
    "df1=df1.drop(index=k)\n",
    "#df1=df1[df1['quantity']==0]\n",
    "#r = (df1.dolya.diff()/df1.dolya.shift(1)).dropna()\n",
    "#df1.dolya.diff().dropna(),df1\n",
    "p,q,m=df1.dolya.values, df1.quantity.values,df1.suc.values\n",
    "diff=[]\n",
    "q1=[]\n",
    "nt=[]\n",
    "nf=[]\n",
    "mt=[]\n",
    "mf=[]\n",
    "for i in range(1,len(p),2):\n",
    "     diff.append(p[i-1]-p[i])\n",
    "for i in range(1,len(q),2):\n",
    "     q1.append(q[i]+q[i-1])\n",
    "     nt.append(q[i])\n",
    "     nf.append(q[i-1])\n",
    "     mt.append(m[i])\n",
    "     mf.append(m[i-1])\n",
    "diff=np.array(diff)\n",
    "q1=np.array(q1)\n",
    "n=diff.size\n",
    "nt=np.array(nt)\n",
    "nf=np.array(nf)\n",
    "mt=np.array(mt)\n",
    "mf=np.array(mf)\n",
    "P=(mt+mf)/(nt+nf)\n",
    "std=np.sqrt((P*(1-P)*(1/nt+1/nf)))\n",
    "z_obs=diff/std\n",
    "pval  = 2*( 1-sts.norm().cdf(np.abs(z_obs)))\n",
    "ans6=(pval<0.05).sum()\n",
    "#df[df['player']=='Alex Kirk']\n",
    "# ans6 = (dff.pvalue < 0.05).sum()\n",
    "# your code here\n"
   ]
  },
  {
   "cell_type": "code",
   "execution_count": 220,
   "metadata": {
    "deletable": false,
    "editable": false,
    "nbgrader": {
     "cell_type": "code",
     "checksum": "780760b1819ebb30ffd63334094e221d",
     "grade": true,
     "grade_id": "cell-9278a8cb8af65de0",
     "locked": true,
     "points": 1,
     "schema_version": 3,
     "solution": false,
     "task": false
    }
   },
   "outputs": [],
   "source": [
    "# проверка того, что задание решено верно\n",
    "assert ans6 < 100\n",
    "assert ans6 > 60\n",
    "\n",
    "# другие подобные тесты скрыты от вас"
   ]
  },
  {
   "cell_type": "markdown",
   "metadata": {},
   "source": [
    "Введите коррекцию с помощью метода Холма. Запишите число гипотез, которые были отклонены на уровне значимости $5\\%$, в переменную `ans7`."
   ]
  },
  {
   "cell_type": "code",
   "execution_count": 251,
   "metadata": {
    "deletable": false,
    "nbgrader": {
     "cell_type": "code",
     "checksum": "3be3235e4d233030d4b9e0d421a32f76",
     "grade": false,
     "grade_id": "cell-ee73ba62dee38bd6",
     "locked": false,
     "schema_version": 3,
     "solution": true,
     "task": false
    }
   },
   "outputs": [
    {
     "data": {
      "text/plain": [
       "array([1., 1., 1., ..., 1., 1., 1.])"
      ]
     },
     "execution_count": 251,
     "metadata": {},
     "output_type": "execute_result"
    }
   ],
   "source": [
    "### ╰( ͡° ͜ʖ ͡° )つ▬▬ι═══════  bzzzzzzzzzz\n",
    "# will the code be with you\n",
    "from statsmodels.sandbox.stats.multicomp import multipletests \n",
    "pval1=pval\n",
    "r, p_cor, _, _ = multipletests(pval1, alpha = 0.05,  method = 'holm') \n",
    "ans7=r.sum()\n",
    "p_cor\n",
    "# ans7 = (dff.pholm < 0.05).sum()\n",
    "\n",
    "# your code here\n"
   ]
  },
  {
   "cell_type": "markdown",
   "metadata": {},
   "source": [
    "Введите коррекцию с помощью метода Бенжамини-Хохберга. Запишите число гипотез, которые были отклонены на уровне значимости $5\\%$, в переменную `ans8`."
   ]
  },
  {
   "cell_type": "code",
   "execution_count": 252,
   "metadata": {
    "deletable": false,
    "nbgrader": {
     "cell_type": "code",
     "checksum": "cfdfda7df508362f248a54068fbccd65",
     "grade": false,
     "grade_id": "cell-d42dbc44789006fc",
     "locked": false,
     "schema_version": 3,
     "solution": true,
     "task": false
    }
   },
   "outputs": [
    {
     "data": {
      "text/plain": [
       "(0, array([nan, nan, nan, ..., nan, nan, nan]))"
      ]
     },
     "execution_count": 252,
     "metadata": {},
     "output_type": "execute_result"
    }
   ],
   "source": [
    "### ╰( ͡° ͜ʖ ͡° )つ▬▬ι═══════  bzzzzzzzzzz\n",
    "# will the code be with you\n",
    "pval2=pval\n",
    "r, p_cor, _, _ = multipletests(pval2, alpha = 0.05,  method = 'fdr_bh') \n",
    "ans8=r.sum()\n",
    "ans8,p_cor\n",
    "\n",
    "# ans8 = (dff.pbh < 0.05).sum()\n",
    "\n",
    "# your code here\n"
   ]
  },
  {
   "cell_type": "code",
   "execution_count": 253,
   "metadata": {
    "deletable": false,
    "editable": false,
    "nbgrader": {
     "cell_type": "code",
     "checksum": "4d3555e920cadc7289733039637e10e6",
     "grade": true,
     "grade_id": "cell-3ea4e0ea82f2e37f",
     "locked": true,
     "points": 1,
     "schema_version": 3,
     "solution": false,
     "task": false
    }
   },
   "outputs": [],
   "source": [
    "# проверка того, что задание решено верно\n",
    "assert ans7 < 10\n",
    "assert ans8 < 10\n",
    "\n",
    "# другие подобные тесты скрыты от вас"
   ]
  },
  {
   "cell_type": "markdown",
   "metadata": {},
   "source": [
    "Объясните разницу, которую вы получили в количестве отклоненных гипотез. Предположим, что вы менеджер команды и вы хотите на основе статистики принять решение о том, какие игроки должны играть на поле в домашнем матче. Как вы будете его принимать? "
   ]
  },
  {
   "cell_type": "markdown",
   "metadata": {},
   "source": [
    "Отсортируйте таблицу по `pvalue`, полученному из самого первого теста. Посмотрите на самые большие и самые маленькие значения. Какое число наблюдений им соотвествуте? Как думаете, почему гипотезы для маленького числа наблюдений не отвергаются? Как это связано с ЗБЧ? Можно ли доверять этим результатам? Как их можно было бы решить при предобработке данных? "
   ]
  },
  {
   "cell_type": "code",
   "execution_count": null,
   "metadata": {
    "deletable": false,
    "nbgrader": {
     "cell_type": "code",
     "checksum": "93a37803b5dca0e79f08ec1e4950cd57",
     "grade": false,
     "grade_id": "cell-9c6ed6ac74b605e8",
     "locked": false,
     "schema_version": 3,
     "solution": true,
     "task": false
    }
   },
   "outputs": [],
   "source": [
    "### ╰( ͡° ͜ʖ ͡° )つ▬▬ι═══════  bzzzzzzzzzz\n",
    "# will the code be with you\n",
    "\n",
    "# your code here\n"
   ]
  },
  {
   "cell_type": "markdown",
   "metadata": {},
   "source": [
    "# 3. Постоянство - признак мастерства\n",
    "\n",
    "__Решение задач из этого пункта является не обязательным и никак не влияет на вашу оценку.__ "
   ]
  },
  {
   "cell_type": "markdown",
   "metadata": {},
   "source": [
    "В наших данных есть несколько сезонов. Постройте гистограмму с распределением числа игр по каждому году. Видна ли на гистограмме [аномалия, произошедшая в $2011$ году?](https://en.wikipedia.org/wiki/2011_NBA_lockout) "
   ]
  },
  {
   "cell_type": "code",
   "execution_count": null,
   "metadata": {
    "deletable": false,
    "nbgrader": {
     "cell_type": "code",
     "checksum": "83f0aa96e2e9416c9253e22b5868e8bb",
     "grade": false,
     "grade_id": "cell-d094853b80af3c0e",
     "locked": false,
     "schema_version": 3,
     "solution": true,
     "task": false
    }
   },
   "outputs": [],
   "source": [
    "### ╰( ͡° ͜ʖ ͡° )つ▬▬ι═══════  bzzzzzzzzzz\n",
    "# will the code be with you\n",
    "\n",
    "# your code here\n"
   ]
  },
  {
   "cell_type": "markdown",
   "metadata": {},
   "source": [
    "- Посчитайте для каждого игрока по каждому сезону долю попаданий в кольцо и количество сделанных бросков. \n",
    "- Оставьте в данных только те строки, где было сделано как минимум сто бросков. Удалите колонку с количеством сделанных бросков. \n",
    "- Методом `unstack(\"player\")` вытащите индексы, отвечающие в группировке за игроков в названия столбцов. Методом `droplevel()` удалите все лишние заголовки таблицы.\n",
    "- Удалите из данных всех игроков, у которых пропущена статистика хотя бы по одному сезону."
   ]
  },
  {
   "cell_type": "code",
   "execution_count": null,
   "metadata": {
    "deletable": false,
    "nbgrader": {
     "cell_type": "code",
     "checksum": "afa31623b09f133766b2d25563f8de3b",
     "grade": false,
     "grade_id": "cell-92ebaebe5ffce12f",
     "locked": false,
     "schema_version": 3,
     "solution": true,
     "task": false
    }
   },
   "outputs": [],
   "source": [
    "### ╰( ͡° ͜ʖ ͡° )つ▬▬ι═══════  bzzzzzzzzzz\n",
    "# will the code be with you\n",
    "\n",
    "shooting_per_season = ...\n",
    "\n",
    "# your code here\n"
   ]
  },
  {
   "cell_type": "code",
   "execution_count": null,
   "metadata": {},
   "outputs": [],
   "source": [
    "assert shooting_per_season.shape == (10, 27)"
   ]
  },
  {
   "cell_type": "markdown",
   "metadata": {},
   "source": [
    "Посчтитайте для всех игроков стандартное отклонение их доли попаданий в динамике по сезонам. "
   ]
  },
  {
   "cell_type": "code",
   "execution_count": null,
   "metadata": {
    "deletable": false,
    "nbgrader": {
     "cell_type": "code",
     "checksum": "222e40b205ce660e5ac982b50dc1d831",
     "grade": false,
     "grade_id": "cell-9689c3c819cbb4d2",
     "locked": false,
     "schema_version": 3,
     "solution": true,
     "task": false
    }
   },
   "outputs": [],
   "source": [
    "### ╰( ͡° ͜ʖ ͡° )つ▬▬ι═══════  bzzzzzzzzzz\n",
    "# will the code be with you\n",
    "\n",
    "# your code here\n"
   ]
  },
  {
   "cell_type": "markdown",
   "metadata": {},
   "source": [
    "Постройте для $3$ самых непредсказуемых игроков и для трёх самых предсказуемых игроков динамику доли их попаданий по сезонам (по оси $x$ сезоны, по оси $y$ доля попаданий). "
   ]
  },
  {
   "cell_type": "code",
   "execution_count": null,
   "metadata": {
    "deletable": false,
    "nbgrader": {
     "cell_type": "code",
     "checksum": "be14af5187c7bd7f408b7b08c3121eaf",
     "grade": false,
     "grade_id": "cell-4e5a67d23397bb09",
     "locked": false,
     "schema_version": 3,
     "solution": true,
     "task": false
    }
   },
   "outputs": [],
   "source": [
    "### ╰( ͡° ͜ʖ ͡° )つ▬▬ι═══════  bzzzzzzzzzz\n",
    "# will the code be with you\n",
    "\n",
    "# your code here\n"
   ]
  },
  {
   "cell_type": "markdown",
   "metadata": {},
   "source": [
    "Каких игроков из представленных вы бы предпочли взять к себе в команду? Кому бы вы предпочли доверить делать штрафные броски? Почему? "
   ]
  },
  {
   "cell_type": "markdown",
   "metadata": {},
   "source": [
    "# 4. Эффект победителя\n",
    "\n",
    "__Решение задач из этого пункта является не обязательным и никак не влияет на вашу оценку.__ \n",
    "\n",
    "__Гипотеза:__\n",
    "\n",
    "> Если мы попали в корзину, сделав первый штрафной бросок, вероятность попасть при втором штрафном выше, чем если бы мы промахнулись.\n",
    "\n",
    "Проверим эту гипотезу. \n",
    "\n",
    "- Создадим в исходной таблице колонку `shot_made_previous` методом `shift()`. В ней будет записан результат предыдущего броска. Данные отсортированы по времени.\n",
    "- Извлечём из данных в таблицу `winner_effect` все строки, где в колонке `play` находится одна из записей: `\"2 of 2\", \"2 of 3\", \"3 of 3\"`. Каждая из них означает, что предыдущий бросок был сделан успешно. Этот же срез выбросит из таблицы все строки, где сдвиг, сделанный в предыдущем пункте, привёл к появлению некорректных записей.  "
   ]
  },
  {
   "cell_type": "code",
   "execution_count": null,
   "metadata": {},
   "outputs": [],
   "source": [
    "df[\"shot_made_previous\"] = df.shot_made.shift()\n",
    "\n",
    "winner_effect = df[(df.play.str.contains(\"2 of 2\")) | \\\n",
    "                   (df.play.str.contains(\"2 of 3\")) | \n",
    "                   (df.play.str.contains(\"3 of 3\"))]"
   ]
  },
  {
   "cell_type": "markdown",
   "metadata": {},
   "source": [
    "По аналогии с пунктом $2$ найдите вероятность попасть в корзину при условии, что первый бросок был успешен, и вероятность попасть, при условии, что первый бросок был неуспешен. \n",
    "\n",
    "- Всех игроков с оценкой только одной из вероятностей удалите из данных.\n",
    "- Всех игроков, у которых было меньше $10$ успешных первых бросков либо проваленных первых бросков, также удалите.\n",
    "\n",
    "Для каждого игрока проверьте гипотезу о том, что эти две вероятности совпадают. Используйте уровень значимости $5\\%$. Для коррекции уровня значимости используйте методы Холма и Бенжамини-Хохберга. Для скольких игроков гипотеза об эффекте победителя не отвергается?"
   ]
  },
  {
   "cell_type": "code",
   "execution_count": null,
   "metadata": {
    "deletable": false,
    "nbgrader": {
     "cell_type": "code",
     "checksum": "f3a2223525a1ba70897c1117bbe35506",
     "grade": false,
     "grade_id": "cell-5dcff4f9598ae49b",
     "locked": false,
     "schema_version": 3,
     "solution": true,
     "task": false
    }
   },
   "outputs": [],
   "source": [
    "### ╰( ͡° ͜ʖ ͡° )つ▬▬ι═══════  bzzzzzzzzzz\n",
    "# will the code be with you\n",
    "\n",
    "# your code here\n"
   ]
  },
  {
   "cell_type": "code",
   "execution_count": null,
   "metadata": {
    "deletable": false,
    "nbgrader": {
     "cell_type": "code",
     "checksum": "6bf9da40aa6cdff3f3f7957dd28a20a4",
     "grade": false,
     "grade_id": "cell-640ac09692c87082",
     "locked": false,
     "schema_version": 3,
     "solution": true,
     "task": false
    }
   },
   "outputs": [],
   "source": [
    "### ╰( ͡° ͜ʖ ͡° )つ▬▬ι═══════  bzzzzzzzzzz\n",
    "# will the code be with you\n",
    "\n",
    "# your code here\n"
   ]
  },
  {
   "cell_type": "markdown",
   "metadata": {},
   "source": [
    "Посмотрите на таблицу значимых по Бенжамини-Хохбергу эффектов. Какие из них на ваш взгляд являются существенными? Не допустили ли мы в этих ситуациях ошибку второго рода?"
   ]
  },
  {
   "cell_type": "code",
   "execution_count": null,
   "metadata": {
    "deletable": false,
    "nbgrader": {
     "cell_type": "code",
     "checksum": "871906201165c12d62a93f996b123bd7",
     "grade": false,
     "grade_id": "cell-9c851e54f8bbeca9",
     "locked": false,
     "schema_version": 3,
     "solution": true,
     "task": false
    }
   },
   "outputs": [],
   "source": [
    "### ╰( ͡° ͜ʖ ͡° )つ▬▬ι═══════  bzzzzzzzzzz\n",
    "# will the code be with you\n",
    "\n",
    "# your code here\n"
   ]
  },
  {
   "cell_type": "markdown",
   "metadata": {},
   "source": [
    "В свободное время посмотрите фильм [\"Человек, который изменил всё\"](https://www.kinopoisk.ru/film/432791/) про спортивных скаутов. В нём играет молодой Брэд Пит, а ещё он про статистику.\n",
    "\n",
    "<center>\n",
    "<img src=\"https://img3.goodfon.ru/original/2026x1236/1/68/moneyball-bratt-pitt-actor.jpg\" width=\"700\"> \n",
    "</center>\n"
   ]
  }
 ],
 "metadata": {
  "kernelspec": {
   "display_name": "Python 3",
   "language": "python",
   "name": "python3"
  },
  "language_info": {
   "codemirror_mode": {
    "name": "ipython",
    "version": 3
   },
   "file_extension": ".py",
   "mimetype": "text/x-python",
   "name": "python",
   "nbconvert_exporter": "python",
   "pygments_lexer": "ipython3",
   "version": "3.7.6"
  }
 },
 "nbformat": 4,
 "nbformat_minor": 2
}
